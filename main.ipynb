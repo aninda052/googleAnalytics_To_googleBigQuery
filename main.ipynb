{
 "cells": [
  {
   "cell_type": "code",
   "execution_count": 1,
   "metadata": {},
   "outputs": [],
   "source": [
    "from googleapiclient.discovery import build\n",
    "from oauth2client.service_account import ServiceAccountCredentials\n",
    "\n",
    "from google.cloud import bigquery\n",
    "from os import environ\n"
   ]
  },
  {
   "cell_type": "code",
   "execution_count": 2,
   "metadata": {},
   "outputs": [],
   "source": [
    "def getGaConnection():\n",
    "    scopes = ['https://www.googleapis.com/auth/analytics.readonly']\n",
    "    # your credentials path\n",
    "    keyFileLocation = './credentials.json'\n",
    "    credentials = ServiceAccountCredentials.from_json_keyfile_name(keyFileLocation, scopes)\n",
    "\n",
    "    return build('analyticsreporting', 'v4', credentials=credentials)"
   ]
  },
  {
   "cell_type": "code",
   "execution_count": 3,
   "metadata": {},
   "outputs": [],
   "source": [
    "def getBqConnection ():\n",
    "    # your credentials path\n",
    "    environ[\"GOOGLE_APPLICATION_CREDENTIALS\"] = './credentials.json'\n",
    "    return bigquery.Client()"
   ]
  },
  {
   "cell_type": "code",
   "execution_count": 27,
   "metadata": {},
   "outputs": [],
   "source": [
    "def getDataFromGa (viewId,startDate,endDate,metrics,dimensions):\n",
    "    \n",
    "    metrics  = [{'expression': metricsName} for metricsName in metrics]\n",
    "    dimensions  = [{'name': dimensionName} for dimensionName in dimensions]\n",
    "    \n",
    "    \n",
    "    analyticsData = analytics.reports().batchGet(\n",
    "          body={\n",
    "            'reportRequests': [\n",
    "            {\n",
    "              'viewId': viewId,\n",
    "              'dateRanges': [{'startDate': startDate, 'endDate': endDate}],\n",
    "              'metrics': metrics,\n",
    "              'dimensions': dimensions\n",
    "            }]\n",
    "          }\n",
    "      ).execute()\n",
    "    return analyticsData"
   ]
  },
  {
   "cell_type": "code",
   "execution_count": 22,
   "metadata": {},
   "outputs": [],
   "source": [
    "def createTable (tableName,client):\n",
    "    schema = [\n",
    "\n",
    "        bigquery.SchemaField('pagePath', 'STRING', mode='REQUIRED'),\n",
    "        bigquery.SchemaField('channelGrouping', 'STRING', mode='REQUIRED'),\n",
    "        bigquery.SchemaField('medium', 'STRING', mode='REQUIRED'),\n",
    "        bigquery.SchemaField('source', 'STRING', mode='REQUIRED'),\n",
    "        bigquery.SchemaField('referralPath', 'STRING', mode='REQUIRED'),\n",
    "        bigquery.SchemaField('fullReferrer', 'STRING', mode='REQUIRED'),\n",
    "        bigquery.SchemaField('sessions', 'INTEGER', mode='REQUIRED'),\n",
    "        bigquery.SchemaField('pageViews', 'INTEGER', mode='REQUIRED'),\n",
    "\n",
    "    ]\n",
    "    table = bigquery.Table(tableName, schema=schema)\n",
    "    client.create_table(table)"
   ]
  },
  {
   "cell_type": "code",
   "execution_count": 23,
   "metadata": {},
   "outputs": [],
   "source": [
    "# Initializes a Google Analytics Reporting API V4 service object\n",
    "analytics = getGaConnection()\n",
    "\n",
    "# Instantiate the bigquery.Client class to create the BigQuery client\n",
    "bqClient = getBqConnection()"
   ]
  },
  {
   "cell_type": "code",
   "execution_count": null,
   "metadata": {},
   "outputs": [],
   "source": []
  },
  {
   "cell_type": "code",
   "execution_count": 28,
   "metadata": {},
   "outputs": [],
   "source": [
    "viewId = 'your_view_id'\n",
    "startDate = '2019-01-01'\n",
    "endDate = '2019-10-10'\n",
    "\n",
    "# Names of the metrics you want to fetch\n",
    "metrics = [ 'ga:sessions','ga:pageViews']\n",
    "\n",
    "# Names of the dimensions you want to fetch\n",
    "dimensions = ['ga:dateHourMinute', 'ga:pagePath','ga:channelGrouping', 'ga:medium', \n",
    "              'ga:source','ga:referralPath','ga:fullReferrer'] \n",
    "\n",
    "# getting data from google analytics account\n",
    "analyticsData  = getDataFromGa (viewId,startDate,endDate,metrics,dimensions)"
   ]
  },
  {
   "cell_type": "code",
   "execution_count": 29,
   "metadata": {},
   "outputs": [],
   "source": [
    "# rearranging data for google bigquery\n",
    "insertIntoRow = [row['dimensions']+row['metrics'][0]['values']  for row in analyticsData['reports'][0]['data']['rows']]"
   ]
  },
  {
   "cell_type": "code",
   "execution_count": null,
   "metadata": {},
   "outputs": [],
   "source": [
    "projectId = 'your_project_id'\n",
    "dataset = 'your_dataset'\n",
    "table = 'your_table'\n",
    "\n",
    "tablePath = projectId + '.' + dataset  + '.' + table\n",
    "\n",
    "try :\n",
    "    # getting the desire table , if table is not present\n",
    "    # it'll rise a exception\n",
    "    table = bqClient.get_table(tablePath)\n",
    "except :\n",
    "    # creating the table\n",
    "    createTable(tablePath,bqClient)\n",
    "    table = bqClient.get_table(tablePath)\n",
    "    # google need some time to store data after creating a table\n",
    "    from time import sleep\n",
    "    sleep(60)\n",
    "\n",
    "# inserting data in table\n",
    "bqClient.insert_rows(table, insertIntoRow) \n"
   ]
  },
  {
   "cell_type": "code",
   "execution_count": null,
   "metadata": {},
   "outputs": [],
   "source": []
  }
 ],
 "metadata": {
  "kernelspec": {
   "display_name": "Python 3",
   "language": "python",
   "name": "python3"
  },
  "language_info": {
   "codemirror_mode": {
    "name": "ipython",
    "version": 3
   },
   "file_extension": ".py",
   "mimetype": "text/x-python",
   "name": "python",
   "nbconvert_exporter": "python",
   "pygments_lexer": "ipython3",
   "version": "3.6.4"
  }
 },
 "nbformat": 4,
 "nbformat_minor": 2
}
